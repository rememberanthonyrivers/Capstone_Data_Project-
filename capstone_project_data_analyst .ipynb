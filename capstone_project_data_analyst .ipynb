{
 "cells": [
  {
   "cell_type": "code",
   "execution_count": null,
   "metadata": {},
   "outputs": [],
   "source": [
    "                                Ahmedabad, India Real estate Case Study \n",
    "                                                \n",
    "                             ''''One of India's largest populated cities'''' "
   ]
  },
  {
   "cell_type": "code",
   "execution_count": null,
   "metadata": {},
   "outputs": [],
   "source": [
    "''''Questions - \n",
    "    \n",
    "    I :    Out of our data set, which property type is listed the most?\n",
    "    \n",
    "    II :    How many units offer 4 bedrooms?\n",
    "    \n",
    "    III :    Which are there more of in Ahmedabad - Furnished, Semi-furnished or Unfurnished properties available?\n",
    "    \n",
    "    IV :    How many studio apartments are available for lease?\n",
    "    \n",
    "    V :    Which seller type has the most area in terms of square footage?\n",
    "    \n",
    "    VI :    How many property types in total are listed in the city of Maninagar?\n",
    "    \n",
    "    VII :    Which properties cost the most? Name the top five."
   ]
  },
  {
   "cell_type": "code",
   "execution_count": null,
   "metadata": {},
   "outputs": [],
   "source": [
    "============================================================================================================================================"
   ]
  },
  {
   "cell_type": "code",
   "execution_count": null,
   "metadata": {},
   "outputs": [],
   "source": [
    "import pandas as pd"
   ]
  },
  {
   "cell_type": "code",
   "execution_count": null,
   "metadata": {},
   "outputs": [],
   "source": [
    "============================================================================================================================================"
   ]
  },
  {
   "cell_type": "code",
   "execution_count": 24,
   "metadata": {
    "scrolled": false
   },
   "outputs": [
    {
     "data": {
      "text/html": [
       "<div>\n",
       "<style scoped>\n",
       "    .dataframe tbody tr th:only-of-type {\n",
       "        vertical-align: middle;\n",
       "    }\n",
       "\n",
       "    .dataframe tbody tr th {\n",
       "        vertical-align: top;\n",
       "    }\n",
       "\n",
       "    .dataframe thead th {\n",
       "        text-align: right;\n",
       "    }\n",
       "</style>\n",
       "<table border=\"1\" class=\"dataframe\">\n",
       "  <thead>\n",
       "    <tr style=\"text-align: right;\">\n",
       "      <th></th>\n",
       "      <th>seller_type</th>\n",
       "      <th>bedroom</th>\n",
       "      <th>layout_type</th>\n",
       "      <th>property_type</th>\n",
       "      <th>locality</th>\n",
       "      <th>price</th>\n",
       "      <th>area</th>\n",
       "      <th>furnish_type</th>\n",
       "      <th>bathroom</th>\n",
       "    </tr>\n",
       "  </thead>\n",
       "  <tbody>\n",
       "    <tr>\n",
       "      <th>0</th>\n",
       "      <td>OWNER</td>\n",
       "      <td>2</td>\n",
       "      <td>BHK</td>\n",
       "      <td>Apartment</td>\n",
       "      <td>Bodakdev</td>\n",
       "      <td>20,000</td>\n",
       "      <td>1450</td>\n",
       "      <td>Furnished</td>\n",
       "      <td>2 bathrooms</td>\n",
       "    </tr>\n",
       "    <tr>\n",
       "      <th>1</th>\n",
       "      <td>OWNER</td>\n",
       "      <td>1</td>\n",
       "      <td>RK</td>\n",
       "      <td>Studio Apartment</td>\n",
       "      <td>CG Road</td>\n",
       "      <td>7,350</td>\n",
       "      <td>210</td>\n",
       "      <td>Semi-Furnished</td>\n",
       "      <td>1 bathrooms</td>\n",
       "    </tr>\n",
       "    <tr>\n",
       "      <th>2</th>\n",
       "      <td>OWNER</td>\n",
       "      <td>3</td>\n",
       "      <td>BHK</td>\n",
       "      <td>Apartment</td>\n",
       "      <td>Jodhpur</td>\n",
       "      <td>22,000</td>\n",
       "      <td>1900</td>\n",
       "      <td>Unfurnished</td>\n",
       "      <td>3 bathrooms</td>\n",
       "    </tr>\n",
       "    <tr>\n",
       "      <th>3</th>\n",
       "      <td>OWNER</td>\n",
       "      <td>2</td>\n",
       "      <td>BHK</td>\n",
       "      <td>Independent House</td>\n",
       "      <td>Sanand</td>\n",
       "      <td>13,000</td>\n",
       "      <td>1285</td>\n",
       "      <td>Semi-Furnished</td>\n",
       "      <td>2 bathrooms</td>\n",
       "    </tr>\n",
       "    <tr>\n",
       "      <th>4</th>\n",
       "      <td>OWNER</td>\n",
       "      <td>2</td>\n",
       "      <td>BHK</td>\n",
       "      <td>Independent House</td>\n",
       "      <td>Navrangpura</td>\n",
       "      <td>18,000</td>\n",
       "      <td>1600</td>\n",
       "      <td>Furnished</td>\n",
       "      <td>2 bathrooms</td>\n",
       "    </tr>\n",
       "  </tbody>\n",
       "</table>\n",
       "</div>"
      ],
      "text/plain": [
       "  seller_type  bedroom layout_type      property_type     locality   price  \\\n",
       "0       OWNER        2         BHK          Apartment     Bodakdev  20,000   \n",
       "1       OWNER        1          RK   Studio Apartment      CG Road   7,350   \n",
       "2       OWNER        3         BHK          Apartment      Jodhpur  22,000   \n",
       "3       OWNER        2         BHK  Independent House       Sanand  13,000   \n",
       "4       OWNER        2         BHK  Independent House  Navrangpura  18,000   \n",
       "\n",
       "   area    furnish_type     bathroom  \n",
       "0  1450       Furnished  2 bathrooms  \n",
       "1   210  Semi-Furnished  1 bathrooms  \n",
       "2  1900     Unfurnished  3 bathrooms  \n",
       "3  1285  Semi-Furnished  2 bathrooms  \n",
       "4  1600       Furnished  2 bathrooms  "
      ]
     },
     "execution_count": 24,
     "metadata": {},
     "output_type": "execute_result"
    }
   ],
   "source": [
    "df = pd.read_csv('Ahmedabad_rent.csv')\n",
    "df.head()"
   ]
  },
  {
   "cell_type": "code",
   "execution_count": 28,
   "metadata": {
    "scrolled": true
   },
   "outputs": [
    {
     "name": "stdout",
     "output_type": "stream",
     "text": [
      "      seller_type  bedroom layout_type      property_type  \\\n",
      "0           OWNER        2         BHK          Apartment   \n",
      "1           OWNER        1          RK   Studio Apartment   \n",
      "2           OWNER        3         BHK          Apartment   \n",
      "3           OWNER        2         BHK  Independent House   \n",
      "4           OWNER        2         BHK  Independent House   \n",
      "...           ...      ...         ...                ...   \n",
      "18535       OWNER        3         BHK          Apartment   \n",
      "18536       OWNER        4         BHK              Villa   \n",
      "18537       OWNER        2         BHK          Apartment   \n",
      "18538       OWNER        3         BHK          Apartment   \n",
      "18539       OWNER        1         BHK          Apartment   \n",
      "\n",
      "                                     locality   price  area    furnish_type  \\\n",
      "0                                    Bodakdev  20,000  1450       Furnished   \n",
      "1                                     CG Road   7,350   210  Semi-Furnished   \n",
      "2                                     Jodhpur  22,000  1900     Unfurnished   \n",
      "3                                      Sanand  13,000  1285  Semi-Furnished   \n",
      "4                                 Navrangpura  18,000  1600       Furnished   \n",
      "...                                       ...     ...   ...             ...   \n",
      "18535  Near Vaishno Devi Circle On SG Highway  16,000  1427     Unfurnished   \n",
      "18536                                Sanathal  26,000  3060  Semi-Furnished   \n",
      "18537                                  Motera   8,200   600     Unfurnished   \n",
      "18538                                 shyamal  30,000  2500       Furnished   \n",
      "18539                                 Makarba  11,000   750  Semi-Furnished   \n",
      "\n",
      "          bathroom  \n",
      "0      2 bathrooms  \n",
      "1      1 bathrooms  \n",
      "2      3 bathrooms  \n",
      "3      2 bathrooms  \n",
      "4      2 bathrooms  \n",
      "...            ...  \n",
      "18535  2 bathrooms  \n",
      "18536  5 bathrooms  \n",
      "18537  2 bathrooms  \n",
      "18538  3 bathrooms  \n",
      "18539  1 bathrooms  \n",
      "\n",
      "[18540 rows x 9 columns]\n"
     ]
    }
   ],
   "source": [
    "print(df)"
   ]
  },
  {
   "cell_type": "code",
   "execution_count": 27,
   "metadata": {},
   "outputs": [
    {
     "data": {
      "text/plain": [
       "(18540, 9)"
      ]
     },
     "execution_count": 27,
     "metadata": {},
     "output_type": "execute_result"
    }
   ],
   "source": [
    "df.shape #This data set has 18,540 ROWS OF VALUES AND 9 COLUMNS "
   ]
  },
  {
   "cell_type": "code",
   "execution_count": null,
   "metadata": {},
   "outputs": [],
   "source": [
    "=============================================================================================================================="
   ]
  },
  {
   "cell_type": "code",
   "execution_count": null,
   "metadata": {},
   "outputs": [],
   "source": [
    "# QUESTION (1) : Out of our data set, which property type is listed the most?"
   ]
  },
  {
   "cell_type": "code",
   "execution_count": 31,
   "metadata": {
    "scrolled": true
   },
   "outputs": [
    {
     "data": {
      "text/plain": [
       "Apartment            16840\n",
       "Independent House      725\n",
       "Villa                  647\n",
       "Studio Apartment       175\n",
       "Independent Floor      140\n",
       "Penthouse               13\n",
       "Name: property_type, dtype: int64"
      ]
     },
     "execution_count": 31,
     "metadata": {},
     "output_type": "execute_result"
    }
   ],
   "source": [
    "df.property_type.value_counts()"
   ]
  },
  {
   "cell_type": "code",
   "execution_count": null,
   "metadata": {},
   "outputs": [],
   "source": [
    "#  Apartments are the property type thats listed most frequently ."
   ]
  },
  {
   "cell_type": "code",
   "execution_count": null,
   "metadata": {
    "scrolled": false
   },
   "outputs": [],
   "source": [
    "=============================================================================================================================="
   ]
  },
  {
   "cell_type": "code",
   "execution_count": null,
   "metadata": {},
   "outputs": [],
   "source": [
    "# QUESTION (II) : How many units offer 4 bedrooms?"
   ]
  },
  {
   "cell_type": "code",
   "execution_count": 33,
   "metadata": {
    "scrolled": true
   },
   "outputs": [
    {
     "data": {
      "text/plain": [
       "3     7980\n",
       "2     7428\n",
       "4     1670\n",
       "1     1308\n",
       "5      132\n",
       "6       14\n",
       "7        3\n",
       "10       2\n",
       "8        2\n",
       "15       1\n",
       "Name: bedroom, dtype: int64"
      ]
     },
     "execution_count": 33,
     "metadata": {},
     "output_type": "execute_result"
    }
   ],
   "source": [
    "bedroom = df.bedroom.value_counts()\n",
    "bedroom"
   ]
  },
  {
   "cell_type": "code",
   "execution_count": null,
   "metadata": {},
   "outputs": [],
   "source": [
    "# Approximately 1670 units offer 4 bedrooms."
   ]
  },
  {
   "cell_type": "code",
   "execution_count": null,
   "metadata": {},
   "outputs": [],
   "source": [
    "=============================================================================================================================="
   ]
  },
  {
   "cell_type": "code",
   "execution_count": null,
   "metadata": {},
   "outputs": [],
   "source": [
    "# Question III : Which are there more of in Ahmedabad - Furnished, Semi-furnished or Unfurnished properties available?"
   ]
  },
  {
   "cell_type": "code",
   "execution_count": 35,
   "metadata": {},
   "outputs": [
    {
     "data": {
      "text/plain": [
       "Semi-Furnished    8042\n",
       "Furnished         6652\n",
       "Unfurnished       3846\n",
       "Name: furnish_type, dtype: int64"
      ]
     },
     "execution_count": 35,
     "metadata": {},
     "output_type": "execute_result"
    }
   ],
   "source": [
    "style = df.furnish_type.value_counts()\n",
    "style"
   ]
  },
  {
   "cell_type": "code",
   "execution_count": null,
   "metadata": {},
   "outputs": [],
   "source": [
    "# Semi-furnished with the 8042 units."
   ]
  },
  {
   "cell_type": "code",
   "execution_count": null,
   "metadata": {},
   "outputs": [],
   "source": [
    "# Ahmedabad Has more semi-furnished units then furnished and unfurnished."
   ]
  },
  {
   "cell_type": "code",
   "execution_count": null,
   "metadata": {},
   "outputs": [],
   "source": [
    "=============================================================================================================================="
   ]
  },
  {
   "cell_type": "code",
   "execution_count": null,
   "metadata": {},
   "outputs": [],
   "source": [
    "# Question IV : How many studio apartments are available for lease?"
   ]
  },
  {
   "cell_type": "code",
   "execution_count": 37,
   "metadata": {},
   "outputs": [
    {
     "data": {
      "text/plain": [
       "Apartment            16840\n",
       "Independent House      725\n",
       "Villa                  647\n",
       "Studio Apartment       175\n",
       "Independent Floor      140\n",
       "Name: property_type, dtype: int64"
      ]
     },
     "execution_count": 37,
     "metadata": {},
     "output_type": "execute_result"
    }
   ],
   "source": [
    "lease = df.property_type.value_counts().head()\n",
    "lease"
   ]
  },
  {
   "cell_type": "code",
   "execution_count": null,
   "metadata": {},
   "outputs": [],
   "source": [
    "# There are exactly 175 studio apartments available for rent "
   ]
  },
  {
   "cell_type": "code",
   "execution_count": null,
   "metadata": {},
   "outputs": [],
   "source": [
    "=============================================================================================================================="
   ]
  },
  {
   "cell_type": "code",
   "execution_count": null,
   "metadata": {},
   "outputs": [],
   "source": [
    "# Question V : Which seller type has the most area in terms of square footage?"
   ]
  },
  {
   "cell_type": "code",
   "execution_count": 70,
   "metadata": {},
   "outputs": [
    {
     "data": {
      "text/html": [
       "<div>\n",
       "<style scoped>\n",
       "    .dataframe tbody tr th:only-of-type {\n",
       "        vertical-align: middle;\n",
       "    }\n",
       "\n",
       "    .dataframe tbody tr th {\n",
       "        vertical-align: top;\n",
       "    }\n",
       "\n",
       "    .dataframe thead th {\n",
       "        text-align: right;\n",
       "    }\n",
       "</style>\n",
       "<table border=\"1\" class=\"dataframe\">\n",
       "  <thead>\n",
       "    <tr style=\"text-align: right;\">\n",
       "      <th></th>\n",
       "      <th></th>\n",
       "      <th>bedroom</th>\n",
       "    </tr>\n",
       "    <tr>\n",
       "      <th>seller_type</th>\n",
       "      <th>area</th>\n",
       "      <th></th>\n",
       "    </tr>\n",
       "  </thead>\n",
       "  <tbody>\n",
       "    <tr>\n",
       "      <th rowspan=\"5\" valign=\"top\">OWNER</th>\n",
       "      <th>3500</th>\n",
       "      <td>19</td>\n",
       "    </tr>\n",
       "    <tr>\n",
       "      <th>4000</th>\n",
       "      <td>7</td>\n",
       "    </tr>\n",
       "    <tr>\n",
       "      <th>4068</th>\n",
       "      <td>4</td>\n",
       "    </tr>\n",
       "    <tr>\n",
       "      <th>5500</th>\n",
       "      <td>5</td>\n",
       "    </tr>\n",
       "    <tr>\n",
       "      <th>6732</th>\n",
       "      <td>10</td>\n",
       "    </tr>\n",
       "  </tbody>\n",
       "</table>\n",
       "</div>"
      ],
      "text/plain": [
       "                  bedroom\n",
       "seller_type area         \n",
       "OWNER       3500       19\n",
       "            4000        7\n",
       "            4068        4\n",
       "            5500        5\n",
       "            6732       10"
      ]
     },
     "execution_count": 70,
     "metadata": {},
     "output_type": "execute_result"
    }
   ],
   "source": [
    "sqfeet = df.groupby(['seller_type', 'area']).sum().tail()\n",
    "\n",
    "sqfeet"
   ]
  },
  {
   "cell_type": "code",
   "execution_count": null,
   "metadata": {},
   "outputs": [],
   "source": [
    "# The seller type with the most area in SQ footage is an OWNER instead of an AGENT "
   ]
  },
  {
   "cell_type": "code",
   "execution_count": null,
   "metadata": {},
   "outputs": [],
   "source": [
    "=============================================================================================================================="
   ]
  },
  {
   "cell_type": "code",
   "execution_count": null,
   "metadata": {},
   "outputs": [],
   "source": [
    "# Question VI : How many property types in total are listed in the city of Maninagar?"
   ]
  },
  {
   "cell_type": "code",
   "execution_count": 71,
   "metadata": {},
   "outputs": [
    {
     "data": {
      "text/html": [
       "<div>\n",
       "<style scoped>\n",
       "    .dataframe tbody tr th:only-of-type {\n",
       "        vertical-align: middle;\n",
       "    }\n",
       "\n",
       "    .dataframe tbody tr th {\n",
       "        vertical-align: top;\n",
       "    }\n",
       "\n",
       "    .dataframe thead th {\n",
       "        text-align: right;\n",
       "    }\n",
       "</style>\n",
       "<table border=\"1\" class=\"dataframe\">\n",
       "  <thead>\n",
       "    <tr style=\"text-align: right;\">\n",
       "      <th></th>\n",
       "      <th>seller_type</th>\n",
       "      <th>bedroom</th>\n",
       "      <th>layout_type</th>\n",
       "      <th>property_type</th>\n",
       "      <th>locality</th>\n",
       "      <th>price</th>\n",
       "      <th>area</th>\n",
       "      <th>furnish_type</th>\n",
       "      <th>bathroom</th>\n",
       "    </tr>\n",
       "  </thead>\n",
       "  <tbody>\n",
       "    <tr>\n",
       "      <th>0</th>\n",
       "      <td>OWNER</td>\n",
       "      <td>2</td>\n",
       "      <td>BHK</td>\n",
       "      <td>Apartment</td>\n",
       "      <td>Bodakdev</td>\n",
       "      <td>20,000</td>\n",
       "      <td>1450</td>\n",
       "      <td>Furnished</td>\n",
       "      <td>2 bathrooms</td>\n",
       "    </tr>\n",
       "    <tr>\n",
       "      <th>1</th>\n",
       "      <td>OWNER</td>\n",
       "      <td>1</td>\n",
       "      <td>RK</td>\n",
       "      <td>Studio Apartment</td>\n",
       "      <td>CG Road</td>\n",
       "      <td>7,350</td>\n",
       "      <td>210</td>\n",
       "      <td>Semi-Furnished</td>\n",
       "      <td>1 bathrooms</td>\n",
       "    </tr>\n",
       "    <tr>\n",
       "      <th>2</th>\n",
       "      <td>OWNER</td>\n",
       "      <td>3</td>\n",
       "      <td>BHK</td>\n",
       "      <td>Apartment</td>\n",
       "      <td>Jodhpur</td>\n",
       "      <td>22,000</td>\n",
       "      <td>1900</td>\n",
       "      <td>Unfurnished</td>\n",
       "      <td>3 bathrooms</td>\n",
       "    </tr>\n",
       "    <tr>\n",
       "      <th>3</th>\n",
       "      <td>OWNER</td>\n",
       "      <td>2</td>\n",
       "      <td>BHK</td>\n",
       "      <td>Independent House</td>\n",
       "      <td>Sanand</td>\n",
       "      <td>13,000</td>\n",
       "      <td>1285</td>\n",
       "      <td>Semi-Furnished</td>\n",
       "      <td>2 bathrooms</td>\n",
       "    </tr>\n",
       "    <tr>\n",
       "      <th>4</th>\n",
       "      <td>OWNER</td>\n",
       "      <td>2</td>\n",
       "      <td>BHK</td>\n",
       "      <td>Independent House</td>\n",
       "      <td>Navrangpura</td>\n",
       "      <td>18,000</td>\n",
       "      <td>1600</td>\n",
       "      <td>Furnished</td>\n",
       "      <td>2 bathrooms</td>\n",
       "    </tr>\n",
       "    <tr>\n",
       "      <th>...</th>\n",
       "      <td>...</td>\n",
       "      <td>...</td>\n",
       "      <td>...</td>\n",
       "      <td>...</td>\n",
       "      <td>...</td>\n",
       "      <td>...</td>\n",
       "      <td>...</td>\n",
       "      <td>...</td>\n",
       "      <td>...</td>\n",
       "    </tr>\n",
       "    <tr>\n",
       "      <th>18535</th>\n",
       "      <td>OWNER</td>\n",
       "      <td>3</td>\n",
       "      <td>BHK</td>\n",
       "      <td>Apartment</td>\n",
       "      <td>Near Vaishno Devi Circle On SG Highway</td>\n",
       "      <td>16,000</td>\n",
       "      <td>1427</td>\n",
       "      <td>Unfurnished</td>\n",
       "      <td>2 bathrooms</td>\n",
       "    </tr>\n",
       "    <tr>\n",
       "      <th>18536</th>\n",
       "      <td>OWNER</td>\n",
       "      <td>4</td>\n",
       "      <td>BHK</td>\n",
       "      <td>Villa</td>\n",
       "      <td>Sanathal</td>\n",
       "      <td>26,000</td>\n",
       "      <td>3060</td>\n",
       "      <td>Semi-Furnished</td>\n",
       "      <td>5 bathrooms</td>\n",
       "    </tr>\n",
       "    <tr>\n",
       "      <th>18537</th>\n",
       "      <td>OWNER</td>\n",
       "      <td>2</td>\n",
       "      <td>BHK</td>\n",
       "      <td>Apartment</td>\n",
       "      <td>Motera</td>\n",
       "      <td>8,200</td>\n",
       "      <td>600</td>\n",
       "      <td>Unfurnished</td>\n",
       "      <td>2 bathrooms</td>\n",
       "    </tr>\n",
       "    <tr>\n",
       "      <th>18538</th>\n",
       "      <td>OWNER</td>\n",
       "      <td>3</td>\n",
       "      <td>BHK</td>\n",
       "      <td>Apartment</td>\n",
       "      <td>shyamal</td>\n",
       "      <td>30,000</td>\n",
       "      <td>2500</td>\n",
       "      <td>Furnished</td>\n",
       "      <td>3 bathrooms</td>\n",
       "    </tr>\n",
       "    <tr>\n",
       "      <th>18539</th>\n",
       "      <td>OWNER</td>\n",
       "      <td>1</td>\n",
       "      <td>BHK</td>\n",
       "      <td>Apartment</td>\n",
       "      <td>Makarba</td>\n",
       "      <td>11,000</td>\n",
       "      <td>750</td>\n",
       "      <td>Semi-Furnished</td>\n",
       "      <td>1 bathrooms</td>\n",
       "    </tr>\n",
       "  </tbody>\n",
       "</table>\n",
       "<p>18540 rows × 9 columns</p>\n",
       "</div>"
      ],
      "text/plain": [
       "      seller_type  bedroom layout_type      property_type  \\\n",
       "0           OWNER        2         BHK          Apartment   \n",
       "1           OWNER        1          RK   Studio Apartment   \n",
       "2           OWNER        3         BHK          Apartment   \n",
       "3           OWNER        2         BHK  Independent House   \n",
       "4           OWNER        2         BHK  Independent House   \n",
       "...           ...      ...         ...                ...   \n",
       "18535       OWNER        3         BHK          Apartment   \n",
       "18536       OWNER        4         BHK              Villa   \n",
       "18537       OWNER        2         BHK          Apartment   \n",
       "18538       OWNER        3         BHK          Apartment   \n",
       "18539       OWNER        1         BHK          Apartment   \n",
       "\n",
       "                                     locality   price  area    furnish_type  \\\n",
       "0                                    Bodakdev  20,000  1450       Furnished   \n",
       "1                                     CG Road   7,350   210  Semi-Furnished   \n",
       "2                                     Jodhpur  22,000  1900     Unfurnished   \n",
       "3                                      Sanand  13,000  1285  Semi-Furnished   \n",
       "4                                 Navrangpura  18,000  1600       Furnished   \n",
       "...                                       ...     ...   ...             ...   \n",
       "18535  Near Vaishno Devi Circle On SG Highway  16,000  1427     Unfurnished   \n",
       "18536                                Sanathal  26,000  3060  Semi-Furnished   \n",
       "18537                                  Motera   8,200   600     Unfurnished   \n",
       "18538                                 shyamal  30,000  2500       Furnished   \n",
       "18539                                 Makarba  11,000   750  Semi-Furnished   \n",
       "\n",
       "          bathroom  \n",
       "0      2 bathrooms  \n",
       "1      1 bathrooms  \n",
       "2      3 bathrooms  \n",
       "3      2 bathrooms  \n",
       "4      2 bathrooms  \n",
       "...            ...  \n",
       "18535  2 bathrooms  \n",
       "18536  5 bathrooms  \n",
       "18537  2 bathrooms  \n",
       "18538  3 bathrooms  \n",
       "18539  1 bathrooms  \n",
       "\n",
       "[18540 rows x 9 columns]"
      ]
     },
     "execution_count": 71,
     "metadata": {},
     "output_type": "execute_result"
    }
   ],
   "source": [
    "df"
   ]
  },
  {
   "cell_type": "code",
   "execution_count": null,
   "metadata": {},
   "outputs": [],
   "source": [
    "=============================================================================================================================="
   ]
  },
  {
   "cell_type": "code",
   "execution_count": null,
   "metadata": {},
   "outputs": [],
   "source": [
    "# Question VII : Which properties cost the most? List their indices, top five."
   ]
  },
  {
   "cell_type": "code",
   "execution_count": 49,
   "metadata": {
    "scrolled": true
   },
   "outputs": [
    {
     "data": {
      "text/plain": [
       "5829     95,001\n",
       "6315     96,000\n",
       "5953     97,000\n",
       "6210     99,000\n",
       "17352    99,000\n",
       "Name: price, dtype: object"
      ]
     },
     "execution_count": 49,
     "metadata": {},
     "output_type": "execute_result"
    }
   ],
   "source": [
    "df['price'].sort_values().tail()"
   ]
  },
  {
   "cell_type": "code",
   "execution_count": null,
   "metadata": {},
   "outputs": [],
   "source": [
    "#  The range of prices start and and from $95,000 to 99,000 "
   ]
  },
  {
   "cell_type": "code",
   "execution_count": null,
   "metadata": {},
   "outputs": [],
   "source": [
    "=============================================================================================================================="
   ]
  }
 ],
 "metadata": {
  "kernelspec": {
   "display_name": "Python 3",
   "language": "python",
   "name": "python3"
  },
  "language_info": {
   "codemirror_mode": {
    "name": "ipython",
    "version": 3
   },
   "file_extension": ".py",
   "mimetype": "text/x-python",
   "name": "python",
   "nbconvert_exporter": "python",
   "pygments_lexer": "ipython3",
   "version": "3.8.5"
  }
 },
 "nbformat": 4,
 "nbformat_minor": 4
}
